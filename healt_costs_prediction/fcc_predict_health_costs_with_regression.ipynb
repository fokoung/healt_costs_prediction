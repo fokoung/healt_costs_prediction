{
  "cells": [
    {
      "cell_type": "markdown",
      "metadata": {
        "colab_type": "text",
        "id": "view-in-github"
      },
      "source": [
        "<a href=\"https://colab.research.google.com/github/supremmm/FreeCodeCamp_machine_learning_certification/blob/main/fcc_predict_health_costs_with_regression.ipynb\" target=\"_parent\"><img src=\"https://colab.research.google.com/assets/colab-badge.svg\" alt=\"Open In Colab\"/></a>"
      ]
    },
    {
      "cell_type": "code",
      "execution_count": 1,
      "metadata": {
        "id": "1rRo8oNqZ-Rj"
      },
      "outputs": [
        {
          "name": "stdout",
          "output_type": "stream",
          "text": [
            "\n",
            "\u001b[1m[\u001b[0m\u001b[34;49mnotice\u001b[0m\u001b[1;39;49m]\u001b[0m\u001b[39;49m A new release of pip is available: \u001b[0m\u001b[31;49m25.1.1\u001b[0m\u001b[39;49m -> \u001b[0m\u001b[32;49m25.2\u001b[0m\n",
            "\u001b[1m[\u001b[0m\u001b[34;49mnotice\u001b[0m\u001b[1;39;49m]\u001b[0m\u001b[39;49m To update, run: \u001b[0m\u001b[32;49mpython3 -m pip install --upgrade pip\u001b[0m\n"
          ]
        },
        {
          "ename": "ModuleNotFoundError",
          "evalue": "No module named 'tensorflow'",
          "output_type": "error",
          "traceback": [
            "\u001b[31m---------------------------------------------------------------------------\u001b[39m",
            "\u001b[31mModuleNotFoundError\u001b[39m                       Traceback (most recent call last)",
            "\u001b[36mCell\u001b[39m\u001b[36m \u001b[39m\u001b[32mIn[1]\u001b[39m\u001b[32m, line 12\u001b[39m\n\u001b[32m     10\u001b[39m \u001b[38;5;28;01mexcept\u001b[39;00m \u001b[38;5;167;01mException\u001b[39;00m:\n\u001b[32m     11\u001b[39m   \u001b[38;5;28;01mpass\u001b[39;00m\n\u001b[32m---> \u001b[39m\u001b[32m12\u001b[39m \u001b[38;5;28;01mimport\u001b[39;00m\u001b[38;5;250m \u001b[39m\u001b[34;01mtensorflow\u001b[39;00m\u001b[38;5;250m \u001b[39m\u001b[38;5;28;01mas\u001b[39;00m\u001b[38;5;250m \u001b[39m\u001b[34;01mtf\u001b[39;00m\n\u001b[32m     14\u001b[39m \u001b[38;5;28;01mfrom\u001b[39;00m\u001b[38;5;250m \u001b[39m\u001b[34;01mtensorflow\u001b[39;00m\u001b[38;5;250m \u001b[39m\u001b[38;5;28;01mimport\u001b[39;00m keras\n\u001b[32m     15\u001b[39m \u001b[38;5;28;01mfrom\u001b[39;00m\u001b[38;5;250m \u001b[39m\u001b[34;01mtensorflow\u001b[39;00m\u001b[34;01m.\u001b[39;00m\u001b[34;01mkeras\u001b[39;00m\u001b[38;5;250m \u001b[39m\u001b[38;5;28;01mimport\u001b[39;00m layers\n",
            "\u001b[31mModuleNotFoundError\u001b[39m: No module named 'tensorflow'"
          ]
        }
      ],
      "source": [
        "# Import libraries. You may or may not use all of these.\n",
        "!pip install -q git+https://github.com/tensorflow/docs\n",
        "import matplotlib.pyplot as plt\n",
        "import numpy as np\n",
        "import pandas as pd\n",
        "\n",
        "try:\n",
        "  # %tensorflow_version only exists in Colab.\n",
        "  %tensorflow_version 2.x\n",
        "except Exception:\n",
        "  pass\n",
        "import tensorflow as tf\n",
        "\n",
        "from tensorflow import keras\n",
        "from tensorflow.keras import layers\n",
        "\n",
        "import tensorflow_docs as tfdocs\n",
        "import tensorflow_docs.plots\n",
        "import tensorflow_docs.modeling"
      ]
    },
    {
      "cell_type": "code",
      "execution_count": null,
      "metadata": {
        "collapsed": true,
        "id": "CiX2FI4gZtTt"
      },
      "outputs": [],
      "source": [
        "# Import data\n",
        "#!wget https://cdn.freecodecamp.org/project-data/health-costs/insurance.csv\n",
        "dataset = pd.read_csv('insurance.csv')\n",
        "dataset.tail()"
      ]
    },
    {
      "cell_type": "code",
      "execution_count": null,
      "metadata": {
        "collapsed": true,
        "id": "O0g67iRYrj3z"
      },
      "outputs": [],
      "source": [
        "# statistics and visualisation\n",
        "dataset.describe()\n",
        "dataset.hist(bins=30, figsize=(12,8))\n",
        "plt.tight_layout()\n",
        "plt.show()"
      ]
    },
    {
      "cell_type": "code",
      "execution_count": null,
      "metadata": {
        "collapsed": true,
        "id": "aTwzFIz0q1up"
      },
      "outputs": [],
      "source": [
        "# desciption of the dataset\n",
        "dataset.info()"
      ]
    },
    {
      "cell_type": "markdown",
      "metadata": {
        "id": "R_vL53JUq-fL"
      },
      "source": [
        "\n",
        "\n",
        "*   sex, smoker, and region are categorical\n",
        "*   we will convert them to numbers\n",
        "\n"
      ]
    },
    {
      "cell_type": "markdown",
      "metadata": {
        "id": "5e21wGFPqfLH"
      },
      "source": [
        "# data processing"
      ]
    },
    {
      "cell_type": "code",
      "execution_count": null,
      "metadata": {
        "id": "hWL-WegOMCBa"
      },
      "outputs": [],
      "source": [
        "cat = [\"sex\", \"smoker\", \"region\"]\n",
        "for i in cat:\n",
        "  print(\"\\n\", dataset[i].value_counts())"
      ]
    },
    {
      "cell_type": "code",
      "execution_count": null,
      "metadata": {
        "id": "9Zn8Fz6bMSVV"
      },
      "outputs": [],
      "source": [
        "df = dataset.copy()\n",
        "df.head()"
      ]
    },
    {
      "cell_type": "code",
      "execution_count": null,
      "metadata": {
        "collapsed": true,
        "id": "oOsf5bxkOASn"
      },
      "outputs": [],
      "source": [
        "# look on correlations\n",
        "from pandas.plotting import scatter_matrix\n",
        "\n",
        "attributes = [\"age\", \"bmi\", \"children\", \"expenses\"]\n",
        "scatter_matrix(df[attributes], figsize=(12,8))\n",
        "plt.show()"
      ]
    },
    {
      "cell_type": "code",
      "execution_count": null,
      "metadata": {
        "id": "VEaprcqWP286"
      },
      "outputs": [],
      "source": [
        "#let us focus on bmi/expenses\n",
        "df.plot(kind=\"scatter\", x=\"bmi\", y=\"expenses\", alpha=0.1)"
      ]
    },
    {
      "cell_type": "code",
      "execution_count": null,
      "metadata": {
        "collapsed": true,
        "id": "BSsuuJC2QKvU"
      },
      "outputs": [],
      "source": [
        "smooker = dataset[dataset[\"smoker\"] == \"yes\"]\n",
        "non_smoker = dataset[dataset[\"smoker\"] == \"no\"]\n",
        "\n",
        "#male = dataset[(dataset[\"sex\"] == \"male\") & (dataset[\"smoker\"] == \"yes\")]\n",
        "#female = dataset[dataset[\"sex\"] == \"female\"]\n",
        "\n",
        "smooker.plot(kind=\"scatter\", x=\"bmi\", y=\"expenses\", alpha=0.1, title=\"smoker\")\n",
        "non_smoker.plot(kind=\"scatter\", x=\"bmi\", y=\"expenses\", alpha=0.1, title= \"non smoker\")\n",
        "\n",
        "male_smoker = smooker[smooker[\"sex\"] == \"male\"]\n",
        "female_smoker = smooker[smooker[\"sex\"] == \"female\"]\n",
        "\n",
        "male_smoker.plot(kind=\"scatter\", x=\"bmi\", y=\"expenses\", alpha=0.1, title=\"male smoker\")\n",
        "female_smoker.plot(kind=\"scatter\", x=\"bmi\", y=\"expenses\", alpha=0.1, title=\"female smoker\")"
      ]
    },
    {
      "cell_type": "code",
      "execution_count": null,
      "metadata": {
        "collapsed": true,
        "id": "HhpgmYCEqZZo"
      },
      "outputs": [],
      "source": [
        "# convert the categorial columns into binary indicator columns\n",
        "df = pd.get_dummies(df, columns=['sex', 'smoker', 'region'], drop_first=True, dtype=float)\n",
        "df.head()\n",
        "\n"
      ]
    },
    {
      "cell_type": "code",
      "execution_count": null,
      "metadata": {
        "id": "nfttYjpFd6-q"
      },
      "outputs": [],
      "source": [
        "\n",
        "df['bmi_smoker'] = df['bmi'] * df['smoker_yes']\n",
        "df['age_children'] = df['age'] * df['children']\n"
      ]
    },
    {
      "cell_type": "code",
      "execution_count": null,
      "metadata": {
        "id": "qrCI2bWBebIl"
      },
      "outputs": [],
      "source": [
        "# High-BMI smokers incur disproportionate expenses\n",
        "from pandas.plotting import scatter_matrix\n",
        "\n",
        "list=[\"bmi_smoker\", \"expenses\"]\n",
        "scatter_matrix(df[list], figsize=(12,8))\n",
        "plt.show()"
      ]
    },
    {
      "cell_type": "code",
      "execution_count": null,
      "metadata": {
        "id": "MQVDYx8mh0VF"
      },
      "outputs": [],
      "source": [
        "# use 80% of the data as the train_dataset and 20% as the test_dataset\n",
        "train_dataset = df.sample(frac=0.8, random_state= 0)\n",
        "test_dataset = df.drop(train_dataset.index)\n"
      ]
    },
    {
      "cell_type": "code",
      "execution_count": null,
      "metadata": {
        "id": "2wfeOc3TsCBN"
      },
      "outputs": [],
      "source": [
        "\n",
        "# pop off the \"espenses\" column from these dataset to create new datasets called train_labels and tetst_labels\n",
        "# use the label when training the model\n",
        "train_labels = train_dataset.pop(\"expenses\")\n",
        "test_labels = test_dataset.pop(\"expenses\")\n",
        "\n",
        "train_dataset = train_dataset.astype('float32')\n",
        "test_dataset  = test_dataset.astype('float32')\n",
        "\n",
        "# convert pandas dataframes to tensorflow tensors\n",
        "train_dataset = tf.cast(tf.convert_to_tensor(train_dataset.values), tf.float32)\n",
        "test_dataset = tf.cast(tf.convert_to_tensor(test_dataset.values), tf.float32)"
      ]
    },
    {
      "cell_type": "markdown",
      "metadata": {
        "id": "085WuSQsx6ZX"
      },
      "source": [
        "# build the model"
      ]
    },
    {
      "cell_type": "code",
      "execution_count": null,
      "metadata": {
        "id": "oXZbhplVnk6C"
      },
      "outputs": [],
      "source": [
        "normalizer = layers.Normalization(axis=-1)\n",
        "normalizer.adapt(train_dataset)\n"
      ]
    },
    {
      "cell_type": "code",
      "execution_count": null,
      "metadata": {
        "id": "gd0Yi52ByK1a"
      },
      "outputs": [],
      "source": [
        "#define a single feed-forward network regression\n",
        "\n",
        "def build_model():\n",
        "  model = keras.Sequential([\n",
        "      normalizer,\n",
        "      layers.Dense(128, activation='relu'),\n",
        "      layers.Dense(128, activation='relu'),\n",
        "      layers.Dense(64, activation='relu'),\n",
        "      layers.Dense(1)\n",
        "  ])\n",
        "  model.compile(\n",
        "      optimizer = keras.optimizers.Adam(learning_rate=0.0001),\n",
        "      loss = \"mse\",\n",
        "      metrics = [\"mae\", \"mse\"]\n",
        "  )\n",
        "  return model\n",
        "\n",
        "model = build_model()\n",
        "model.summary()"
      ]
    },
    {
      "cell_type": "code",
      "execution_count": null,
      "metadata": {
        "collapsed": true,
        "id": "4H6nqEbRvQEg"
      },
      "outputs": [],
      "source": [
        "# train the model\n",
        "early_stop = keras.callbacks.EarlyStopping(\n",
        "    monitor='val_loss', patience=10, restore_best_weights=True\n",
        ")\n",
        "\n",
        "history = model.fit(\n",
        "    train_dataset, train_labels,\n",
        "    validation_split=0.2,\n",
        "    epochs=200,\n",
        "    callbacks=[early_stop],\n",
        "    verbose=1\n",
        ")"
      ]
    },
    {
      "cell_type": "code",
      "execution_count": null,
      "metadata": {
        "id": "eY47klg21K1w"
      },
      "outputs": [],
      "source": [
        "# diagnose\n",
        "\n",
        "plt.plot(history.history['mae'], label='Train MAE')\n",
        "plt.plot(history.history['val_mae'], label='Val MAE')\n",
        "plt.xlabel('Epoch')\n",
        "plt.ylabel('Mean Absolute Error')\n",
        "plt.legend()\n",
        "plt.show()"
      ]
    },
    {
      "cell_type": "code",
      "execution_count": null,
      "metadata": {
        "id": "Xe7RXH3N3CWU"
      },
      "outputs": [],
      "source": [
        "# RUN THIS CELL TO TEST YOUR MODEL. DO NOT MODIFY CONTENTS.\n",
        "# Test model by checking how well the model generalizes using the test set.\n",
        "loss, mae, mse = model.evaluate(test_dataset, test_labels, verbose=2)\n",
        "\n",
        "print(\"Testing set Mean Abs Error: {:5.2f} expenses\".format(mae))\n",
        "\n",
        "if mae < 3500:\n",
        "  print(\"You passed the challenge. Great job!\")\n",
        "else:\n",
        "  print(\"The Mean Abs Error must be less than 3500. Keep trying.\")\n",
        "\n",
        "# Plot predictions.\n",
        "test_predictions = model.predict(test_dataset).flatten()\n",
        "\n",
        "a = plt.axes(aspect='equal')\n",
        "plt.scatter(test_labels, test_predictions)\n",
        "plt.xlabel('True values (expenses)')\n",
        "plt.ylabel('Predictions (expenses)')\n",
        "lims = [0, 50000]\n",
        "plt.xlim(lims)\n",
        "plt.ylim(lims)\n",
        "_ = plt.plot(lims,lims)\n"
      ]
    }
  ],
  "metadata": {
    "colab": {
      "include_colab_link": true,
      "name": "fcc_predict_health_costs_with_regression.ipynb",
      "private_outputs": true,
      "provenance": []
    },
    "kernelspec": {
      "display_name": "Python 3",
      "name": "python3"
    },
    "language_info": {
      "codemirror_mode": {
        "name": "ipython",
        "version": 3
      },
      "file_extension": ".py",
      "mimetype": "text/x-python",
      "name": "python",
      "nbconvert_exporter": "python",
      "pygments_lexer": "ipython3",
      "version": "3.12.1"
    }
  },
  "nbformat": 4,
  "nbformat_minor": 0
}
